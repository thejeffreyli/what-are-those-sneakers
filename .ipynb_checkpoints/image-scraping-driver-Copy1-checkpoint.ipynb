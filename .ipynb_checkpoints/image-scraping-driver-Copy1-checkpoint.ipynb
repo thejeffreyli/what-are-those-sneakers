{
 "cells": [
  {
   "cell_type": "code",
   "execution_count": 1,
   "id": "d23ab67e",
   "metadata": {},
   "outputs": [],
   "source": [
    "# import packages\n",
    "\n",
    "import io\n",
    "from datetime import datetime as dt\n",
    "from PIL import Image\n",
    "import time\n",
    "import os\n",
    "\n",
    "# browser automation\n",
    "from selenium import webdriver\n",
    "from selenium.webdriver.common.by import By\n",
    "import requests"
   ]
  },
  {
   "cell_type": "code",
   "execution_count": 2,
   "id": "44f7b98a",
   "metadata": {},
   "outputs": [],
   "source": [
    "# Resource: https://www.youtube.com/watch?v=7KhuEsq-I8o\n",
    "\n",
    "def extract_img_url(wd, delay, max_images, url):\n",
    "    def scroll_down(wd):\n",
    "        \n",
    "        # # https://stackoverflow.com/questions/12792236/sent-user-to-page-bottom-by-javascript\n",
    "        # scroll to bottom of the page\n",
    "        \n",
    "        # execute JavaScript code\n",
    "        wd.execute_script(\"window.scrollTo(0, document.body.scrollHeight);\")\n",
    "        time.sleep(delay)\n",
    "\n",
    "    url = url\n",
    "    wd.get(url)\n",
    "    \n",
    "    # set - prevent duplicate links\n",
    "    image_urls = set()\n",
    "    skips = 0\n",
    "    \n",
    "    while len(image_urls) + skips < max_images:\n",
    "        scroll_down(wd)\n",
    "        # Q4LuWd - class name used by Google\n",
    "        # locate all elements with the class name\n",
    "        thumbnails = wd.find_elements(By.CLASS_NAME, \"Q4LuWd\")\n",
    "\n",
    "        for img in thumbnails[len(image_urls) + skips:max_images]:\n",
    "            \n",
    "            # click on image, delay (if applicable)\n",
    "            try:\n",
    "                img.click()\n",
    "                time.sleep(delay)\n",
    "            # image not openable\n",
    "            except:\n",
    "                continue\n",
    "            \n",
    "            # https://github.com/bijij/ViewImage/issues/268\n",
    "            # r48jcc - class for google image source\n",
    "            images = wd.find_elements(By.CLASS_NAME, \"r48jcc\")\n",
    "\n",
    "            for image in images:\n",
    "                \n",
    "                # get value of the src attribute of image element\n",
    "                # already exists in set, update parameters \n",
    "                if image.get_attribute('src') in image_urls:\n",
    "                    max_images += 1\n",
    "                    skips += 1\n",
    "                    break\n",
    "                \n",
    "                # else: add link to set of links if there exists http\n",
    "                if image.get_attribute('src') and 'http' in image.get_attribute('src'):\n",
    "                    image_urls.add(image.get_attribute('src'))\n",
    "\n",
    "    return image_urls"
   ]
  },
  {
   "cell_type": "code",
   "execution_count": 3,
   "id": "b8806392",
   "metadata": {},
   "outputs": [],
   "source": [
    "def download_img(down_path, url, file_name, image_type='JPEG', verbose=True):\n",
    "    try:\n",
    "\n",
    "        # image content is url\n",
    "        img_content = requests.get(url).content\n",
    "        \n",
    "        # get the bytes IO of the image\n",
    "        img_file = io.BytesIO(img_content)    \n",
    "        # open image using Pillow\n",
    "        image = Image.open(img_file)\n",
    "         \n",
    "        # issue with reading some files\n",
    "        # https://stackoverflow.com/questions/48248405/cannot-write-mode-rgba-as-jpeg\n",
    "        if ('png' in url) or ('webp' in url):\n",
    "#             print(url)\n",
    "            image = image.convert('RGB')    \n",
    "        \n",
    "        # store to file\n",
    "        file_pth = down_path + file_name\n",
    "        with open(file_pth, 'wb') as file:\n",
    "            image.save(file, image_type)\n",
    "\n",
    "        if verbose == True:\n",
    "            pass\n",
    "    \n",
    "    # error\n",
    "    except Exception as e:\n",
    "        print(f'Unable to download image from Google Images due to\\n: {str(e)}')\n",
    "        print(url)"
   ]
  },
  {
   "cell_type": "code",
   "execution_count": 34,
   "id": "2a7cc46c",
   "metadata": {},
   "outputs": [],
   "source": [
    "'''\n",
    "# example link and label\n",
    "'https://www.google.com/search?q=adidas+yeezy+boost+350+v2+black+red+&tbm=isch&ved=2ahUKEwjaodmN_-GAAxXFt4QIHQbwBXYQ2-cCegQIABAA&oq=adidas+yeezy+boost+350+v2+black+red+&gs_lcp=CgNpbWcQAzIECCMQJzIFCAAQgAQyBAgAEB4yBggAEAgQHjIGCAAQCBAeMgcIABAYEIAEUKwJWKwJYKINaABwAHgAgAGzAYgBkwKSAQMxLjGYAQCgAQGqAQtnd3Mtd2l6LWltZ8ABAQ&sclient=img&ei=Ki7dZNrkN8XvkvQPhuCXsAc&bih=715&biw=1536',\n",
    "'CP9652'\n",
    "\n",
    "'''\n",
    "\n",
    "\n",
    "# search URLS\n",
    "google_urls = [\n",
    "    'https://www.google.com/search?sca_esv=557804163&rlz=1C1VDKB_enUS963US963&sxsrf=AB5stBi7V0WNBBgcThzVT72Do_LlsasL5w:1692299335624&q=DZ5485-612+ebay&tbm=isch&source=lnms&sa=X&ved=2ahUKEwj4nYOmsuSAAxW0g4QIHYYLDZQQ0pQJegQIChAB&biw=1536&bih=715&dpr=1.25'\n",
    "]\n",
    "    \n",
    "\n",
    "# directory to save \n",
    "labels = [\n",
    "    'DZ5485-612_ebay',\n",
    "    \n",
    "]"
   ]
  },
  {
   "cell_type": "code",
   "execution_count": 35,
   "id": "56d20f59",
   "metadata": {},
   "outputs": [
    {
     "name": "stderr",
     "output_type": "stream",
     "text": [
      "C:\\Users\\jeffr\\AppData\\Local\\Temp\\ipykernel_31336\\1747237004.py:6: DeprecationWarning: executable_path has been deprecated, please pass in a Service object\n",
      "  wd = webdriver.Chrome(executable_path = driver_path)\n"
     ]
    }
   ],
   "source": [
    "# define path for chrome driver\n",
    "# chrome driver - separate executable that acts as a bridge between \n",
    "# Selenium WebDriver and the Google Chrome browser\n",
    "\n",
    "driver_path = 'C:\\\\Users\\\\jeffr\\\\Desktop\\sneaker-classifier-app\\\\chromedriver_win32'\n",
    "wd = webdriver.Chrome(executable_path = driver_path)"
   ]
  },
  {
   "cell_type": "code",
   "execution_count": 36,
   "id": "ff468499",
   "metadata": {
    "scrolled": true
   },
   "outputs": [
    {
     "name": "stdout",
     "output_type": "stream",
     "text": [
      "Unable to download image from Google Photos due to\n",
      ": cannot write mode P as JPEG\n",
      "https://encrypted-tbn0.gstatic.com/images?q=tbn:ANd9GcQ3mAyYnNilZRHbAKXSmIRwo8tucMW2RXaTTw&usqp=CAU\n"
     ]
    }
   ],
   "source": [
    "# TODO\n",
    "save_dir = 'C:\\\\Users\\\\jeffr\\\\Desktop\\sneaker-classifier-app\\\\data\\\\unclean\\\\'\n",
    "\n",
    "# make directory if not found\n",
    "for lbl in labels:\n",
    "    if not os.path.exists(save_dir + lbl):\n",
    "        # make directory with label name\n",
    "        os.makedirs(save_dir + lbl)\n",
    "\n",
    "# get image url links\n",
    "for url_current, lbl in zip(google_urls, labels):\n",
    "    urls = extract_img_url(wd, 0, 150, url_current)\n",
    "    \n",
    "    # download images\n",
    "    for i, url in enumerate(urls):\n",
    "        download_img(save_dir + lbl + \"\\\\\", \n",
    "                       url=url, file_name=str(i+1)+ '.jpg',verbose=True) \n",
    "wd.quit()"
   ]
  }
 ],
 "metadata": {
  "kernelspec": {
   "display_name": "Python 3 (ipykernel)",
   "language": "python",
   "name": "python3"
  },
  "language_info": {
   "codemirror_mode": {
    "name": "ipython",
    "version": 3
   },
   "file_extension": ".py",
   "mimetype": "text/x-python",
   "name": "python",
   "nbconvert_exporter": "python",
   "pygments_lexer": "ipython3",
   "version": "3.9.12"
  }
 },
 "nbformat": 4,
 "nbformat_minor": 5
}
